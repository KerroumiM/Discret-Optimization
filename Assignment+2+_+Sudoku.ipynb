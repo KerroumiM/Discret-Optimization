{
 "cells": [
  {
   "cell_type": "markdown",
   "metadata": {},
   "source": [
    "# Optimization tutorial : Sudoku \n",
    "\n",
    "**KERROUMI Mohamed**\n",
    "\n",
    "May 2019\n",
    "\n"
   ]
  },
  {
   "cell_type": "markdown",
   "metadata": {},
   "source": [
    "In this tutorial we will use Python. The objective is to solve the puzzle Sudoku for any size (order), using integer programming."
   ]
  },
  {
   "cell_type": "markdown",
   "metadata": {},
   "source": [
    "## 1 - Fromulation\n",
    "In this section, we will present the formulation of the IP problem of a Sudoku puzzle of size 3, the formulation is roughly the same for any size.\n",
    "- The Sudoku puzzles are feasibility problems, we are only looking for a feasible solution and there's no objective funtion we are trying to maximize, so in our formulation we'll set the objective function to 0.\n",
    "- To specify that a given number k is located or not in position $(i,j)$ in the grid, we introduce a binary variable $x_{kij}$ such as: $x_{kij}=1$ if k is located in position $(i,j)$, $x_{kij}=0$ otherwise.\n",
    "- In filling the grid, each row, column, and three-by-three subgrid must contain only one of an integer value. so,\n",
    "<br>\n",
    "Line Constraints:\n",
    "$$ \\sum_{j=1}^9 x_{kij} =1 \\qquad for \\quad i,k \\in \\{1...9\\}$$\n",
    "Column Constraints:\n",
    "$$ \\sum_{i=1}^9 x_{kij} =1 \\qquad for \\quad j,k \\in \\{1...9\\}$$\n",
    "Subgrid Constraints:\n",
    "$$ \\sum_{i=1}^3 \\sum_{j=1}^3 x_{k, 3p+i, 3q+j} =1 \\qquad for \\qquad q,p \\in \\{0,1,2\\} \\quad k \\in \\{1...9\\}$$\n",
    "Only a single number can be located at any location $(i,j)$:\n",
    "$$ \\sum_{k=1}^9 x_{kij} =1 \\qquad for \\qquad i,j \\in \\{1...9\\}$$\n",
    "Additional constraints of the known numbers:\n",
    "$$x_{kij}=1 \\qquad for \\qquad i,j,k \\in G = \\text{All the known cells} $$\n",
    "Hence, the formulation of the problem is as follows:\n",
    "\\begin{alignat}{4}\n",
    "&   \\max_{x}       &            &       & z = 0  && && \\\\\n",
    "&\\text{subject to} & \\qquad     &             &\\sum_{j=1}^9  & x_{kij}         &=&1 &\\quad for \\quad i,k \\in \\{1...9\\}& \\\\\n",
    "&                  &            &             &\\sum_{i=1}^9 & x_{kij}          &=&1 &\\quad for \\quad j,k \\in \\{1...9\\}& \\\\\n",
    "&                  &            & \\sum_{i=1}^3&\\sum_{j=1}^3  &x_{k, 3p+i, 3q+j}&=&1 &\\quad for \\quad q,p\\in \\{0,1,2\\}&\\quad k \\in \\{1...9\\}\\\\\n",
    "&                  &            &             &\\sum_{k=1}^9 & x_{kij}          &=&1 &\\quad for \\quad i,j \\in \\{1...9\\}& \\\\\n",
    "&                  &            &             & & x_{kij}          &=&1 &\\quad for \\quad i,j,k \\in G& \\\\\n",
    "\\end{alignat}"
   ]
  },
  {
   "cell_type": "markdown",
   "metadata": {},
   "source": [
    "## 2 - Resolution using Python"
   ]
  },
  {
   "cell_type": "code",
   "execution_count": 1,
   "metadata": {
    "collapsed": true
   },
   "outputs": [],
   "source": [
    "import numpy as np\n",
    "\n",
    "import cvxopt\n",
    "\n",
    "import cvxopt.glpk\n",
    "cvxopt.glpk.ilp?\n",
    "\n",
    "from cvxopt import matrix"
   ]
  },
  {
   "cell_type": "code",
   "execution_count": 84,
   "metadata": {
    "collapsed": true
   },
   "outputs": [],
   "source": [
    "# The variables of our problem are well understood if they are represented in 3D matrix, so we'll write  two functions to go\n",
    "#from the 3D representation to 1D, and vice versa:\n",
    "def to1D(i,j,k,size=3):\n",
    "    n=size**2\n",
    "    assert( 0<=i and i<n)\n",
    "    assert( 0<=j and j<n)\n",
    "    assert( 0<=k and k<n)\n",
    "    return(j+n*i+k* (n)**2)\n",
    "def to3D(l, size):\n",
    "    n=size**2\n",
    "    assert( 0<=l and l<n**3)\n",
    "    k= l//(n**2)\n",
    "    i= (l-k*(n)**2)//n\n",
    "    j= l -n*i -k*(n)**2\n",
    "    return (i,j,k)"
   ]
  },
  {
   "cell_type": "code",
   "execution_count": 85,
   "metadata": {
    "collapsed": true
   },
   "outputs": [],
   "source": [
    "#The function that creates the matrix of constraints A\n",
    "def const(B,size=3):\n",
    "    n=size**2\n",
    "    A=np.zeros((4*n*n,n*n*n))\n",
    "    #contraint: Only a single number can be located at any location (i,j)\n",
    "    for i in range(n):\n",
    "        for j in range(n):\n",
    "            for k in range(n):\n",
    "                A[i+ j*n,to1D(i,j,k,size)]=1\n",
    "    #The line contraints:\n",
    "    for k in range(n):\n",
    "        for i in range(n):\n",
    "            for j in range(n):\n",
    "                A[n**2 + k+ i*n,to1D(i,j,k,size)]=1\n",
    "    #The column contraints:\n",
    "    for k in range(n):\n",
    "        for j in range(n):\n",
    "            for i in range(n):\n",
    "                A[2*(n**2) + k+ j*n,to1D(i,j,k,size)]=1\n",
    "    #Square constraints:\n",
    "    for k in range(n):\n",
    "        for p in range(size):\n",
    "            for q in range(size):\n",
    "                for i in range(size):\n",
    "                    for j in range(size):\n",
    "                        A[3*(n**2)+p+q*size+k*n,to1D(size*p+i,size*q+j,k,size)]=1\n",
    "    for m in range(np.shape(A)[0]):\n",
    "        assert(sum(A[m,])==n)\n",
    "    #Additional constraints of the known numbers\n",
    "    for k in range(1,n+1):\n",
    "        result=np.where(B==k)\n",
    "        # zip the 2 arrays to get the exact coordinates\n",
    "        listOfCoordinates= list(zip(result[0], result[1]))\n",
    "        for e in listOfCoordinates:\n",
    "            newrow=np.zeros(n*n*n)\n",
    "            newrow[to1D(e[0],e[1],k-1,size)]=1\n",
    "            A=np.vstack((A,newrow))\n",
    "    return(A)"
   ]
  },
  {
   "cell_type": "code",
   "execution_count": 86,
   "metadata": {
    "collapsed": true
   },
   "outputs": [],
   "source": [
    "## solving\n",
    "def solving(A):\n",
    "    b=matrix(np.ones(A.shape[0])) \n",
    "    c=matrix(np.zeros(A.shape[1])) \n",
    "    G=matrix(np.zeros(A.shape))\n",
    "    h=matrix(np.zeros(A.shape[0]))\n",
    "    A1 = matrix(A)\n",
    "    (status, solution) = cvxopt.glpk.ilp(c=c,G=G,h=h,A=A1,b=b,B=set(range(A.shape[1])))\n",
    "    return (status, solution)"
   ]
  },
  {
   "cell_type": "code",
   "execution_count": 87,
   "metadata": {
    "collapsed": true
   },
   "outputs": [],
   "source": [
    "# The function that transforms the solution from the binary form to a square matrix with the right number in each cell.\n",
    "def to2D(a,size=3):\n",
    "    n=size**2\n",
    "    E=np.zeros((n,n),dtype=int)\n",
    "    for i in range(n):\n",
    "        for j in range(n):\n",
    "            for k in range(n):\n",
    "                if a[to1D(i,j,k,size)]==1:\n",
    "                    E[i,j]=k+1\n",
    "    return(E)"
   ]
  },
  {
   "cell_type": "code",
   "execution_count": 88,
   "metadata": {
    "collapsed": true
   },
   "outputs": [],
   "source": [
    "#The function that prints the solution in the form of a sudoku grid.\n",
    "def print_sudoku(grid,size=3):\n",
    "    for r in range(len(grid)):\n",
    "        row = \"\"\n",
    "        for c in range(len(grid[r])):\n",
    "            if c%size == 0:\n",
    "                row += \"[\"\n",
    "            row += \" \"+str(grid[r][c])\n",
    "            if c%size == size-1:\n",
    "                row += \" ]\"\n",
    "        print(row)\n",
    "        if r % size == size-1:\n",
    "            print(\"-\"*27)"
   ]
  },
  {
   "cell_type": "code",
   "execution_count": 103,
   "metadata": {
    "collapsed": true
   },
   "outputs": [],
   "source": [
    "#The function that solves the sudoku puzzle, it takes as parameters: B the initial grid with the known numbers, and the size of\n",
    "#the puzzle, in our case size=3\n",
    "def sudoku(B,size=3):\n",
    "    A=const(B,size)\n",
    "    solution=solving(A)[1]\n",
    "    E=to2D(solution,size)\n",
    "    print_sudoku(E,size)"
   ]
  },
  {
   "cell_type": "markdown",
   "metadata": {},
   "source": [
    "## 3 - Test\n",
    "- Simple Sudoku Puzzle"
   ]
  },
  {
   "cell_type": "code",
   "execution_count": 104,
   "metadata": {},
   "outputs": [
    {
     "name": "stdout",
     "output_type": "stream",
     "text": [
      "[ 0 8 0 ][ 9 0 1 ][ 0 5 0 ]\n",
      "[ 0 0 2 ][ 6 8 7 ][ 3 0 0 ]\n",
      "[ 0 0 3 ][ 0 0 0 ][ 6 0 0 ]\n",
      "---------------------------\n",
      "[ 3 9 0 ][ 0 0 0 ][ 0 6 5 ]\n",
      "[ 6 0 0 ][ 4 7 5 ][ 0 0 3 ]\n",
      "[ 5 7 0 ][ 0 0 0 ][ 0 8 4 ]\n",
      "---------------------------\n",
      "[ 0 0 9 ][ 0 0 0 ][ 8 0 0 ]\n",
      "[ 0 0 5 ][ 1 2 4 ][ 9 0 0 ]\n",
      "[ 0 4 0 ][ 8 0 3 ][ 0 2 0 ]\n",
      "---------------------------\n"
     ]
    }
   ],
   "source": [
    "B = np.array([\n",
    "[0,8,0, 9,0,1, 0,5,0],\n",
    "[0,0,2, 6,8,7, 3,0,0],\n",
    "[0,0,3, 0,0,0, 6,0,0],\n",
    "[3,9,0, 0,0,0, 0,6,5],\n",
    "[6,0,0, 4,7,5, 0,0,3],\n",
    "[5,7,0, 0,0,0, 0,8,4],\n",
    "[0,0,9, 0,0,0, 8,0,0],\n",
    "[0,0,5, 1,2,4, 9,0,0],\n",
    "[0,4,0, 8,0,3, 0,2,0]])\n",
    "print_sudoku(B,3)"
   ]
  },
  {
   "cell_type": "code",
   "execution_count": 105,
   "metadata": {},
   "outputs": [
    {
     "name": "stdout",
     "output_type": "stream",
     "text": [
      "[ 7 8 6 ][ 9 3 1 ][ 4 5 2 ]\n",
      "[ 4 5 2 ][ 6 8 7 ][ 3 1 9 ]\n",
      "[ 9 1 3 ][ 5 4 2 ][ 6 7 8 ]\n",
      "---------------------------\n",
      "[ 3 9 4 ][ 2 1 8 ][ 7 6 5 ]\n",
      "[ 6 2 8 ][ 4 7 5 ][ 1 9 3 ]\n",
      "[ 5 7 1 ][ 3 6 9 ][ 2 8 4 ]\n",
      "---------------------------\n",
      "[ 2 3 9 ][ 7 5 6 ][ 8 4 1 ]\n",
      "[ 8 6 5 ][ 1 2 4 ][ 9 3 7 ]\n",
      "[ 1 4 7 ][ 8 9 3 ][ 5 2 6 ]\n",
      "---------------------------\n"
     ]
    }
   ],
   "source": [
    "sudoku(B,3)"
   ]
  },
  {
   "cell_type": "markdown",
   "metadata": {},
   "source": [
    "- Very hard Sudoku Puzzle"
   ]
  },
  {
   "cell_type": "code",
   "execution_count": 106,
   "metadata": {},
   "outputs": [
    {
     "name": "stdout",
     "output_type": "stream",
     "text": [
      "[ 7 0 0 ][ 0 0 0 ][ 4 0 0 ]\n",
      "[ 0 2 0 ][ 0 7 0 ][ 0 8 0 ]\n",
      "[ 0 0 3 ][ 0 0 8 ][ 0 0 9 ]\n",
      "---------------------------\n",
      "[ 0 0 0 ][ 5 0 0 ][ 3 0 0 ]\n",
      "[ 0 6 0 ][ 0 2 0 ][ 0 9 0 ]\n",
      "[ 0 0 1 ][ 0 0 7 ][ 0 0 6 ]\n",
      "---------------------------\n",
      "[ 0 0 0 ][ 3 0 0 ][ 9 0 0 ]\n",
      "[ 0 3 0 ][ 0 4 0 ][ 0 6 0 ]\n",
      "[ 0 0 9 ][ 0 0 1 ][ 0 0 5 ]\n",
      "---------------------------\n"
     ]
    }
   ],
   "source": [
    "C = np.array([\n",
    "[7,0,0, 0,0,0, 4,0,0],\n",
    "[0,2,0, 0,7,0, 0,8,0],\n",
    "[0,0,3, 0,0,8, 0,0,9],\n",
    "[0,0,0, 5,0,0, 3,0,0],\n",
    "[0,6,0, 0,2,0, 0,9,0],\n",
    "[0,0,1, 0,0,7, 0,0,6],\n",
    "[0,0,0, 3,0,0, 9,0,0],\n",
    "[0,3,0, 0,4,0, 0,6,0],\n",
    "[0,0,9, 0,0,1, 0,0,5]])\n",
    "\n",
    "print_sudoku(C,3)"
   ]
  },
  {
   "cell_type": "code",
   "execution_count": 107,
   "metadata": {},
   "outputs": [
    {
     "name": "stdout",
     "output_type": "stream",
     "text": [
      "[ 7 9 8 ][ 6 3 5 ][ 4 2 1 ]\n",
      "[ 1 2 6 ][ 9 7 4 ][ 5 8 3 ]\n",
      "[ 4 5 3 ][ 2 1 8 ][ 6 7 9 ]\n",
      "---------------------------\n",
      "[ 9 7 2 ][ 5 8 6 ][ 3 1 4 ]\n",
      "[ 5 6 4 ][ 1 2 3 ][ 8 9 7 ]\n",
      "[ 3 8 1 ][ 4 9 7 ][ 2 5 6 ]\n",
      "---------------------------\n",
      "[ 6 1 7 ][ 3 5 2 ][ 9 4 8 ]\n",
      "[ 8 3 5 ][ 7 4 9 ][ 1 6 2 ]\n",
      "[ 2 4 9 ][ 8 6 1 ][ 7 3 5 ]\n",
      "---------------------------\n"
     ]
    }
   ],
   "source": [
    "sudoku(C,3)"
   ]
  },
  {
   "cell_type": "code",
   "execution_count": 108,
   "metadata": {},
   "outputs": [
    {
     "name": "stdout",
     "output_type": "stream",
     "text": [
      "[ 0 2 ][ 4 0 ]\n",
      "[ 0 0 ][ 0 2 ]\n",
      "---------------------------\n",
      "[ 3 0 ][ 0 0 ]\n",
      "[ 0 1 ][ 3 0 ]\n",
      "---------------------------\n"
     ]
    }
   ],
   "source": [
    "D = np.array([\n",
    "[0,2, 4,0],\n",
    "[0,0, 0,2],\n",
    "[3,0, 0,0],\n",
    "[0,1, 3,0]])\n",
    "\n",
    "print_sudoku(D,2)"
   ]
  },
  {
   "cell_type": "code",
   "execution_count": 109,
   "metadata": {},
   "outputs": [
    {
     "name": "stdout",
     "output_type": "stream",
     "text": [
      "[ 1 2 ][ 4 3 ]\n",
      "[ 4 3 ][ 1 2 ]\n",
      "---------------------------\n",
      "[ 3 4 ][ 2 1 ]\n",
      "[ 2 1 ][ 3 4 ]\n",
      "---------------------------\n"
     ]
    }
   ],
   "source": [
    "sudoku(D,2)"
   ]
  }
 ],
 "metadata": {
  "kernelspec": {
   "display_name": "Python 3",
   "language": "python",
   "name": "python3"
  },
  "language_info": {
   "codemirror_mode": {
    "name": "ipython",
    "version": 3
   },
   "file_extension": ".py",
   "mimetype": "text/x-python",
   "name": "python",
   "nbconvert_exporter": "python",
   "pygments_lexer": "ipython3",
   "version": "3.6.3"
  }
 },
 "nbformat": 4,
 "nbformat_minor": 2
}
